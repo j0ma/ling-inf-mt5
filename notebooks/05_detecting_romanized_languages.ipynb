{
 "cells": [
  {
   "cell_type": "code",
   "execution_count": 1,
   "id": "8c81decf",
   "metadata": {},
   "outputs": [],
   "source": [
    "import cyrtranslit as ct\n",
    "import datasets as ds\n",
    "import pandas as pd"
   ]
  },
  {
   "cell_type": "code",
   "execution_count": 2,
   "id": "593fda8e",
   "metadata": {},
   "outputs": [],
   "source": [
    "flores = ds.load_from_disk(\"../data-bin/flores-dev-no-orth/\")\n",
    "ntrex = ds.load_from_disk(\"../data-bin/ntrex-no-orth/\")"
   ]
  },
  {
   "cell_type": "markdown",
   "id": "3f554e16",
   "metadata": {},
   "source": [
    "Let's make sure Serbian is in Cyrillic too. When I remove the orthography, the latest version of Serbian gets saved, i.e. the Latin version."
   ]
  },
  {
   "cell_type": "code",
   "execution_count": 3,
   "id": "f66b8ccb",
   "metadata": {},
   "outputs": [
    {
     "data": {
      "text/plain": [
       "{'text': 'Velški članovi skupštine su zabrinuti zbog „sličnosti sa Mapetovcima“',\n",
       " 'language': 'srp'}"
      ]
     },
     "execution_count": 3,
     "metadata": {},
     "output_type": "execute_result"
    }
   ],
   "source": [
    "ntrex['srp'][0]"
   ]
  },
  {
   "cell_type": "code",
   "execution_count": 4,
   "id": "0779e547",
   "metadata": {},
   "outputs": [],
   "source": [
    "srp_cyrl = ds.load_from_disk(\"../data-bin/ntrex/srp-Cyrl/\")"
   ]
  },
  {
   "cell_type": "code",
   "execution_count": 5,
   "id": "e30bfc31",
   "metadata": {},
   "outputs": [],
   "source": [
    "def fix_lang(ex):\n",
    "    ex['language'] = [l.replace(\"-Cyrl\", \"\") for l in ex['language']]\n",
    "    return ex"
   ]
  },
  {
   "cell_type": "code",
   "execution_count": 6,
   "id": "fda21666",
   "metadata": {},
   "outputs": [
    {
     "name": "stderr",
     "output_type": "stream",
     "text": [
      "Loading cached processed dataset at /home/jonne/research/ling-rel-transfer/ling-inf-transfer/data-bin/ntrex/srp-Cyrl/cache-fef3e13bbda83700.arrow\n"
     ]
    }
   ],
   "source": [
    "srp_cyrl = srp_cyrl.map(fix_lang, batched=True)"
   ]
  },
  {
   "cell_type": "code",
   "execution_count": 7,
   "id": "0ad4f5d2",
   "metadata": {},
   "outputs": [],
   "source": [
    "ntrex['srp'] = srp_cyrl"
   ]
  },
  {
   "cell_type": "code",
   "execution_count": 8,
   "id": "deba90a3",
   "metadata": {},
   "outputs": [
    {
     "data": {
      "text/plain": [
       "{'text': 'Велшки чланови скупштине су забринути због „сличности са Мапетовцима“',\n",
       " 'language': 'srp'}"
      ]
     },
     "execution_count": 8,
     "metadata": {},
     "output_type": "execute_result"
    }
   ],
   "source": [
    "ntrex['srp'][0]"
   ]
  },
  {
   "cell_type": "code",
   "execution_count": null,
   "id": "f55530b8",
   "metadata": {},
   "outputs": [],
   "source": []
  },
  {
   "cell_type": "markdown",
   "id": "d0972278",
   "metadata": {},
   "source": [
    "Languages supported by `cyrtransliterate`: Bulgarian, Montenegrin, Macedonian, Mongolian, Russian, Serbian, Tajik, and Ukrainian."
   ]
  },
  {
   "cell_type": "code",
   "execution_count": 9,
   "id": "e81bc87b",
   "metadata": {},
   "outputs": [],
   "source": [
    "language_codes = {\n",
    "    \"Bulgarian\": {\n",
    "        \"flores\": 'bul',\n",
    "        \"ntrex\": 'bul'\n",
    "    },\n",
    "    \"Macedonian\": {\n",
    "        \"flores\": 'mkd',\n",
    "        \"ntrex\": \"mkd\"\n",
    "    },\n",
    "    \"Mongolian\": {\n",
    "        \"flores\": \"khk\",\n",
    "        \"ntrex\": \"mon\"\n",
    "    },\n",
    "    \"Russian\": {\n",
    "        \"flores\": \"rus\",\n",
    "        \"ntrex\": \"rus\"\n",
    "    },\n",
    "    \"Serbian\": {\n",
    "        \"flores\": \"srp\",\n",
    "        \"ntrex\": \"srp\"\n",
    "    },\n",
    "    \"Tajik\": {\n",
    "        \"flores\": \"tgk\",\n",
    "        \"ntrex\": \"tgk\"\n",
    "    },\n",
    "    \"Ukrainian\": {\n",
    "        \"flores\": \"ukr\",\n",
    "        \"ntrex\": \"ukr\"\n",
    "    }\n",
    "}"
   ]
  },
  {
   "cell_type": "code",
   "execution_count": 10,
   "id": "55bdd422",
   "metadata": {},
   "outputs": [],
   "source": [
    "supported_languages = list(language_codes)"
   ]
  },
  {
   "cell_type": "code",
   "execution_count": 11,
   "id": "66548844",
   "metadata": {},
   "outputs": [
    {
     "data": {
      "text/plain": [
       "['Bulgarian',\n",
       " 'Macedonian',\n",
       " 'Mongolian',\n",
       " 'Russian',\n",
       " 'Serbian',\n",
       " 'Tajik',\n",
       " 'Ukrainian']"
      ]
     },
     "execution_count": 11,
     "metadata": {},
     "output_type": "execute_result"
    }
   ],
   "source": [
    "supported_languages"
   ]
  },
  {
   "cell_type": "code",
   "execution_count": 12,
   "id": "4a07a259",
   "metadata": {},
   "outputs": [],
   "source": [
    "train_data_cyr = ds.concatenate_datasets([ntrex[language_codes[lang][\"ntrex\"]] for lang in supported_languages])\n",
    "test_data_cyr = ds.concatenate_datasets([flores[language_codes[lang][\"flores\"]] for lang in supported_languages])"
   ]
  },
  {
   "cell_type": "code",
   "execution_count": 13,
   "id": "99e0db8f",
   "metadata": {},
   "outputs": [],
   "source": [
    "def fix_mongolian(ex):\n",
    "    out = []\n",
    "    for lang in ex['language']:\n",
    "        if lang == 'mon':\n",
    "            out.append('khk')\n",
    "        else:\n",
    "            out.append(lang)\n",
    "    ex['language'] = out\n",
    "    return ex"
   ]
  },
  {
   "cell_type": "code",
   "execution_count": 14,
   "id": "3c2aba67",
   "metadata": {},
   "outputs": [
    {
     "name": "stderr",
     "output_type": "stream",
     "text": [
      "Loading cached processed dataset at /home/jonne/research/ling-rel-transfer/ling-inf-transfer/data-bin/ntrex-no-orth/bul/cache-0acd1e1ef289453f.arrow\n"
     ]
    }
   ],
   "source": [
    "train_data_cyr = train_data_cyr.map(fix_mongolian, batched=True, batch_size=10000)"
   ]
  },
  {
   "cell_type": "code",
   "execution_count": 15,
   "id": "8dcd66dc",
   "metadata": {},
   "outputs": [
    {
     "data": {
      "text/plain": [
       "{'Bulgarian': {'flores': 'bul', 'ntrex': 'bul'},\n",
       " 'Macedonian': {'flores': 'mkd', 'ntrex': 'mkd'},\n",
       " 'Mongolian': {'flores': 'khk', 'ntrex': 'mon'},\n",
       " 'Russian': {'flores': 'rus', 'ntrex': 'rus'},\n",
       " 'Serbian': {'flores': 'srp', 'ntrex': 'srp'},\n",
       " 'Tajik': {'flores': 'tgk', 'ntrex': 'tgk'},\n",
       " 'Ukrainian': {'flores': 'ukr', 'ntrex': 'ukr'}}"
      ]
     },
     "execution_count": 15,
     "metadata": {},
     "output_type": "execute_result"
    }
   ],
   "source": [
    "language_codes"
   ]
  },
  {
   "cell_type": "code",
   "execution_count": 16,
   "id": "d6226c27",
   "metadata": {},
   "outputs": [],
   "source": [
    "reverse_language_codes_map = {}\n",
    "for language, code_dict in language_codes.items():\n",
    "    flores_code = code_dict['flores']\n",
    "    ntrex_code = code_dict['ntrex']\n",
    "    reverse_language_codes_map[flores_code] = language\n",
    "    reverse_language_codes_map[ntrex_code] = language"
   ]
  },
  {
   "cell_type": "code",
   "execution_count": 17,
   "id": "d6a39f75",
   "metadata": {},
   "outputs": [
    {
     "data": {
      "text/plain": [
       "{'bul': 'Bulgarian',\n",
       " 'mkd': 'Macedonian',\n",
       " 'khk': 'Mongolian',\n",
       " 'mon': 'Mongolian',\n",
       " 'rus': 'Russian',\n",
       " 'srp': 'Serbian',\n",
       " 'tgk': 'Tajik',\n",
       " 'ukr': 'Ukrainian'}"
      ]
     },
     "execution_count": 17,
     "metadata": {},
     "output_type": "execute_result"
    }
   ],
   "source": [
    "reverse_language_codes_map"
   ]
  },
  {
   "cell_type": "code",
   "execution_count": 18,
   "id": "be54b53e",
   "metadata": {},
   "outputs": [],
   "source": [
    "cyrtranslate_language_map = dict(\n",
    "    zip(\n",
    "        ['Bulgarian', 'Montenergrin', 'Macedonian', 'Mongolian', 'Russian', 'Serbian', 'Tajik', 'Ukrainian'],\n",
    "        ['bg', 'me', 'mk', 'mn', 'ru', 'sr', 'tj', 'ua']\n",
    "    )\n",
    ")"
   ]
  },
  {
   "cell_type": "code",
   "execution_count": 19,
   "id": "57d56c06",
   "metadata": {},
   "outputs": [
    {
     "data": {
      "text/plain": [
       "{'Bulgarian': 'bg',\n",
       " 'Montenergrin': 'me',\n",
       " 'Macedonian': 'mk',\n",
       " 'Mongolian': 'mn',\n",
       " 'Russian': 'ru',\n",
       " 'Serbian': 'sr',\n",
       " 'Tajik': 'tj',\n",
       " 'Ukrainian': 'ua'}"
      ]
     },
     "execution_count": 19,
     "metadata": {},
     "output_type": "execute_result"
    }
   ],
   "source": [
    "cyrtranslate_language_map"
   ]
  },
  {
   "cell_type": "code",
   "execution_count": 20,
   "id": "08992bb7",
   "metadata": {},
   "outputs": [],
   "source": [
    "def romanize(ex, add_suffix=True):\n",
    "    languages = ex['language']\n",
    "    texts = ex['text']\n",
    "    romanized = []\n",
    "    for lang, text in zip(languages, texts):\n",
    "        language_long = reverse_language_codes_map[lang]\n",
    "        ct_code = cyrtranslate_language_map[language_long]\n",
    "        latn = ct.to_latin(text, lang_code=ct_code)\n",
    "        romanized.append(latn)\n",
    "        \n",
    "    ex['text'] = romanized\n",
    "    if add_suffix:\n",
    "        ex['language'] = [f\"{lang}-rom\" for lang in languages]\n",
    "    \n",
    "    return ex"
   ]
  },
  {
   "cell_type": "code",
   "execution_count": 21,
   "id": "ca4c2daf",
   "metadata": {},
   "outputs": [],
   "source": [
    "import functools as ft"
   ]
  },
  {
   "cell_type": "code",
   "execution_count": 22,
   "id": "af50ab44",
   "metadata": {},
   "outputs": [],
   "source": [
    "_romanize = ft.partial(romanize, add_suffix=False)"
   ]
  },
  {
   "cell_type": "code",
   "execution_count": 23,
   "id": "0d680f57",
   "metadata": {},
   "outputs": [
    {
     "name": "stderr",
     "output_type": "stream",
     "text": [
      "Loading cached processed dataset at /home/jonne/research/ling-rel-transfer/ling-inf-transfer/data-bin/ntrex-no-orth/bul/cache-1a245e89b76499f4.arrow\n"
     ]
    }
   ],
   "source": [
    "train_data_rom = train_data_cyr.map(_romanize, batched=True, batch_size=10000)"
   ]
  },
  {
   "cell_type": "code",
   "execution_count": 24,
   "id": "bf7b4ccc",
   "metadata": {},
   "outputs": [
    {
     "name": "stderr",
     "output_type": "stream",
     "text": [
      "Loading cached processed dataset at /home/jonne/research/ling-rel-transfer/ling-inf-transfer/data-bin/flores-dev-no-orth/bul/cache-365341cd29e78ca9.arrow\n"
     ]
    }
   ],
   "source": [
    "test_data_rom = test_data_cyr.map(_romanize, batched=True, batch_size=10000)"
   ]
  },
  {
   "cell_type": "code",
   "execution_count": 25,
   "id": "f72d4c94",
   "metadata": {},
   "outputs": [],
   "source": [
    "train_data = ds.concatenate_datasets([train_data_cyr, train_data_rom])"
   ]
  },
  {
   "cell_type": "code",
   "execution_count": 26,
   "id": "fc2557a1",
   "metadata": {},
   "outputs": [],
   "source": [
    "test_data = ds.concatenate_datasets([test_data_cyr, test_data_rom])"
   ]
  },
  {
   "cell_type": "markdown",
   "id": "9df4c87e",
   "metadata": {},
   "source": [
    "### Sklearn baseline"
   ]
  },
  {
   "cell_type": "code",
   "execution_count": 27,
   "id": "2574d89a",
   "metadata": {},
   "outputs": [],
   "source": [
    "from sklearn.feature_extraction.text import CountVectorizer, TfidfVectorizer\n",
    "from sklearn.feature_extraction import DictVectorizer"
   ]
  },
  {
   "cell_type": "code",
   "execution_count": null,
   "id": "5e0d34b8",
   "metadata": {},
   "outputs": [],
   "source": []
  },
  {
   "cell_type": "code",
   "execution_count": 28,
   "id": "64c808a1",
   "metadata": {},
   "outputs": [],
   "source": [
    "bow_vec = CountVectorizer(ngram_range=(2,2))\n",
    "char_vec = CountVectorizer(analyzer='char', ngram_range=(2,2))"
   ]
  },
  {
   "cell_type": "code",
   "execution_count": 29,
   "id": "edae5e16",
   "metadata": {},
   "outputs": [],
   "source": [
    "sentences_train = train_data['text']\n",
    "sentences_test = test_data['text']"
   ]
  },
  {
   "cell_type": "code",
   "execution_count": 30,
   "id": "339efaea",
   "metadata": {},
   "outputs": [],
   "source": [
    "X_train_word = bow_vec.fit_transform(sentences_train)\n",
    "X_train_char = char_vec.fit_transform(sentences_train)"
   ]
  },
  {
   "cell_type": "code",
   "execution_count": 31,
   "id": "1d0df698",
   "metadata": {},
   "outputs": [],
   "source": [
    "X_test_word = bow_vec.transform(sentences_test)\n",
    "X_test_char = char_vec.transform(sentences_test)"
   ]
  },
  {
   "cell_type": "code",
   "execution_count": 32,
   "id": "4b026242",
   "metadata": {},
   "outputs": [],
   "source": [
    "y_train = train_data['language']\n",
    "y_test = test_data['language']"
   ]
  },
  {
   "cell_type": "markdown",
   "id": "0ee5cdd6",
   "metadata": {},
   "source": [
    "#### Bag of words"
   ]
  },
  {
   "cell_type": "code",
   "execution_count": 33,
   "id": "28ee4981",
   "metadata": {},
   "outputs": [],
   "source": [
    "from sklearn.linear_model import LogisticRegression"
   ]
  },
  {
   "cell_type": "code",
   "execution_count": 34,
   "id": "932a1d2d",
   "metadata": {},
   "outputs": [],
   "source": [
    "bow_model = LogisticRegression(max_iter=1000)"
   ]
  },
  {
   "cell_type": "code",
   "execution_count": 35,
   "id": "d9064f33",
   "metadata": {},
   "outputs": [],
   "source": [
    "bow_model = bow_model.fit(X_train_word, y_train)"
   ]
  },
  {
   "cell_type": "code",
   "execution_count": 36,
   "id": "53b24455",
   "metadata": {},
   "outputs": [],
   "source": [
    "y_pred = bow_model.predict(X_test_word)\n",
    "y_pred_proba = bow_model.predict_proba(X_test_word)"
   ]
  },
  {
   "cell_type": "code",
   "execution_count": 37,
   "id": "b93c2c02",
   "metadata": {},
   "outputs": [],
   "source": [
    "from sklearn.metrics import ConfusionMatrixDisplay\n",
    "import matplotlib.pyplot as plt"
   ]
  },
  {
   "cell_type": "code",
   "execution_count": 38,
   "id": "c66cd688",
   "metadata": {},
   "outputs": [],
   "source": [
    "ordered_languages = pd.value_counts(test_data['language']).index.tolist()"
   ]
  },
  {
   "cell_type": "code",
   "execution_count": 39,
   "id": "52f15ffd",
   "metadata": {},
   "outputs": [
    {
     "data": {
      "text/plain": [
       "Text(0.5, 1.0, 'Features: Word bigrams\\nModel: Logistic regression')"
      ]
     },
     "execution_count": 39,
     "metadata": {},
     "output_type": "execute_result"
    },
    {
     "data": {
      "image/png": "[encoded data removed]",
      "text/plain": [
       "<Figure size 1500x1500 with 2 Axes>"
      ]
     },
     "metadata": {},
     "output_type": "display_data"
    }
   ],
   "source": [
    "fig, ax = plt.subplots(figsize=(15, 15))\n",
    "ConfusionMatrixDisplay.from_estimator(\n",
    "        bow_model,\n",
    "        X_test_word,\n",
    "        y_test,\n",
    "        display_labels=ordered_languages,\n",
    "        cmap=plt.cm.Blues,\n",
    "        normalize=None,\n",
    "#         values_format='.2f',\n",
    "    ax=ax\n",
    ")\n",
    "plt.title(\"Features: Word bigrams\\nModel: Logistic regression\")"
   ]
  },
  {
   "cell_type": "markdown",
   "id": "18953291",
   "metadata": {},
   "source": [
    "## Bag of chars"
   ]
  },
  {
   "cell_type": "code",
   "execution_count": 40,
   "id": "e2c2590a",
   "metadata": {},
   "outputs": [],
   "source": [
    "boc_model = LogisticRegression(max_iter=1000)\n",
    "boc_model = boc_model.fit(X_train_char, y_train)\n",
    "y_pred_char = boc_model.predict(X_test_char)\n",
    "y_pred_proba_char = boc_model.predict_proba(X_test_char)"
   ]
  },
  {
   "cell_type": "code",
   "execution_count": 41,
   "id": "04133f2c",
   "metadata": {},
   "outputs": [
    {
     "data": {
      "text/plain": [
       "Text(0.5, 1.0, 'Features: Char bigrams\\nModel: Logistic regression')"
      ]
     },
     "execution_count": 41,
     "metadata": {},
     "output_type": "execute_result"
    },
    {
     "data": {
      "image/png": "[encoded data removed]",
      "text/plain": [
       "<Figure size 1200x1200 with 2 Axes>"
      ]
     },
     "metadata": {},
     "output_type": "display_data"
    }
   ],
   "source": [
    "fig, ax = plt.subplots(figsize=(12, 12))\n",
    "ConfusionMatrixDisplay.from_estimator(\n",
    "        boc_model,\n",
    "        X_test_char,\n",
    "        y_test,\n",
    "        display_labels=ordered_languages,\n",
    "        cmap=plt.cm.Blues,\n",
    "        normalize=None,\n",
    "        values_format='',\n",
    "        ax=ax,\n",
    ")\n",
    "plt.title('Features: Char bigrams\\nModel: Logistic regression')"
   ]
  },
  {
   "cell_type": "code",
   "execution_count": 42,
   "id": "5652a83b",
   "metadata": {},
   "outputs": [],
   "source": [
    "char_preds_df = pd.DataFrame()\n",
    "char_preds_df['sentence'] = test_data['text']\n",
    "char_preds_df['language'] = y_test\n",
    "char_preds_df['language_pred'] = y_pred_char"
   ]
  },
  {
   "cell_type": "code",
   "execution_count": 43,
   "id": "1806c2ad",
   "metadata": {},
   "outputs": [],
   "source": [
    "char_preds_df['correct'] = char_preds_df.language == char_preds_df.language_pred"
   ]
  },
  {
   "cell_type": "code",
   "execution_count": 49,
   "id": "4ae28a2d",
   "metadata": {},
   "outputs": [],
   "source": [
    "word_preds_df = pd.DataFrame()\n",
    "word_preds_df['sentence'] = test_data['text']\n",
    "word_preds_df['language'] = y_test\n",
    "word_preds_df['language_pred'] = y_pred"
   ]
  },
  {
   "cell_type": "code",
   "execution_count": 50,
   "id": "5eb3ddae",
   "metadata": {},
   "outputs": [],
   "source": [
    "word_preds_df['correct'] = word_preds_df.language == word_preds_df.language_pred"
   ]
  },
  {
   "cell_type": "code",
   "execution_count": 52,
   "id": "1802b847",
   "metadata": {},
   "outputs": [],
   "source": [
    "word_misclassification_counts = word_preds_df[(~word_preds_df.correct)].groupby(\"language\").language_pred.value_counts()"
   ]
  },
  {
   "cell_type": "code",
   "execution_count": 53,
   "id": "9d2bbb17",
   "metadata": {},
   "outputs": [],
   "source": [
    "def identify_language_bow_model(sentence):\n",
    "    return bow_model.predict(bow_vec.transform([sentence]))[0]"
   ]
  },
  {
   "cell_type": "code",
   "execution_count": 54,
   "id": "c125d9fe",
   "metadata": {},
   "outputs": [],
   "source": [
    "def identify_language_boc_model(sentence):\n",
    "    return boc_model.predict(char_vec.transform([sentence]))[0]"
   ]
  },
  {
   "cell_type": "markdown",
   "id": "2fb045b4",
   "metadata": {},
   "source": [
    "## Feature extraction pipeline"
   ]
  },
  {
   "cell_type": "code",
   "execution_count": 78,
   "id": "c9696df4",
   "metadata": {},
   "outputs": [],
   "source": [
    "import transformers as tf\n",
    "import numpy as np"
   ]
  },
  {
   "cell_type": "code",
   "execution_count": 94,
   "id": "8914f40f",
   "metadata": {},
   "outputs": [
    {
     "name": "stderr",
     "output_type": "stream",
     "text": [
      "Some weights of the model checkpoint at bert-base-multilingual-cased were not used when initializing BertModel: ['cls.predictions.bias', 'cls.predictions.transform.LayerNorm.weight', 'cls.seq_relationship.weight', 'cls.predictions.transform.dense.weight', 'cls.predictions.transform.dense.bias', 'cls.predictions.decoder.weight', 'cls.seq_relationship.bias', 'cls.predictions.transform.LayerNorm.bias']\n",
      "- This IS expected if you are initializing BertModel from the checkpoint of a model trained on another task or with another architecture (e.g. initializing a BertForSequenceClassification model from a BertForPreTraining model).\n",
      "- This IS NOT expected if you are initializing BertModel from the checkpoint of a model that you expect to be exactly identical (initializing a BertForSequenceClassification model from a BertForSequenceClassification model).\n"
     ]
    }
   ],
   "source": [
    "feat_ext = tf.pipeline(\"feature-extraction\", model='bert-base-multilingual-cased', return_tensors=\"pt\", pad=True)"
   ]
  },
  {
   "cell_type": "code",
   "execution_count": 80,
   "id": "2035888a",
   "metadata": {},
   "outputs": [],
   "source": [
    "def to_numpy(t):\n",
    "    return t.cpu().detach().numpy()"
   ]
  },
  {
   "cell_type": "code",
   "execution_count": 91,
   "id": "64d71c45",
   "metadata": {},
   "outputs": [],
   "source": [
    "import torch"
   ]
  },
  {
   "cell_type": "code",
   "execution_count": 101,
   "id": "d075bfc4",
   "metadata": {},
   "outputs": [],
   "source": [
    "torch.cat?"
   ]
  },
  {
   "cell_type": "code",
   "execution_count": 111,
   "id": "d99b53cc",
   "metadata": {},
   "outputs": [],
   "source": [
    "from tqdm import tqdm"
   ]
  },
  {
   "cell_type": "code",
   "execution_count": 115,
   "id": "0ac5eccc",
   "metadata": {},
   "outputs": [],
   "source": [
    "def extract_features(sentences):\n",
    "    feats = feat_ext(sentences)\n",
    "    return torch.stack([\n",
    "        feat[0][0]\n",
    "    for feat in tqdm(feats)])"
   ]
  },
  {
   "cell_type": "code",
   "execution_count": null,
   "id": "79f20b3f",
   "metadata": {},
   "outputs": [],
   "source": [
    "X_train_mbert = extract_features(sentences_train)\n",
    "X_test_mbert = extract_features(sentences_test)"
   ]
  },
  {
   "cell_type": "code",
   "execution_count": null,
   "id": "ad6c3912",
   "metadata": {},
   "outputs": [],
   "source": [
    "mbert_model = LogisticRegression(max_iter=1000)"
   ]
  },
  {
   "cell_type": "code",
   "execution_count": null,
   "id": "73eeccb2",
   "metadata": {},
   "outputs": [],
   "source": [
    "mbert_model = mbert_model.fit(X_train_mbert, y_train)"
   ]
  },
  {
   "cell_type": "code",
   "execution_count": null,
   "id": "09acc1a6",
   "metadata": {},
   "outputs": [],
   "source": []
  },
  {
   "cell_type": "code",
   "execution_count": null,
   "id": "0795a719",
   "metadata": {},
   "outputs": [],
   "source": []
  },
  {
   "cell_type": "code",
   "execution_count": null,
   "id": "6a58c4cc",
   "metadata": {},
   "outputs": [],
   "source": []
  },
  {
   "cell_type": "code",
   "execution_count": null,
   "id": "1b5246ad",
   "metadata": {},
   "outputs": [],
   "source": []
  },
  {
   "cell_type": "code",
   "execution_count": null,
   "id": "1d3fe323",
   "metadata": {},
   "outputs": [],
   "source": []
  },
  {
   "cell_type": "code",
   "execution_count": null,
   "id": "90bf50c5",
   "metadata": {},
   "outputs": [],
   "source": []
  },
  {
   "cell_type": "code",
   "execution_count": null,
   "id": "93502840",
   "metadata": {},
   "outputs": [],
   "source": []
  },
  {
   "cell_type": "markdown",
   "id": "b6535fa3",
   "metadata": {},
   "source": [
    "```python\n",
    "    # Load the XLM-R tokenizer and model\n",
    "    tokenizer = AutoTokenizer.from_pretrained(model_name)\n",
    "\n",
    "    model = AutoModelForSequenceClassification.from_pretrained(\n",
    "        model_name, num_labels=max(language_to_id.values())\n",
    "    )\n",
    "\n",
    "    pprint(\"Classifier:\")\n",
    "    pprint(model.classifier)\n",
    "\n",
    "    def preprocess_function(examples):\n",
    "        inputs = examples[\"text\"]\n",
    "        labels = [language_to_id[label] for label in examples[\"label\"]]\n",
    "\n",
    "        model_inputs = tokenizer(\n",
    "            inputs, padding=True, truncation=True, max_length=max_length_tokens\n",
    "        )\n",
    "        model_inputs[\"label\"] = labels\n",
    "\n",
    "        return model_inputs\n",
    "\n",
    "    data_for_finetune = data_for_finetune.map(preprocess_function, batched=True)\n",
    "    data_for_test = data_for_test.map(preprocess_function, batched=True)\n",
    "\n",
    "    # Define the training arguments\n",
    "\n",
    "    if max_steps:\n",
    "        how_long_to_train_args = {\n",
    "            \"max_steps\": max_steps,\n",
    "        }\n",
    "    else:\n",
    "        how_long_to_train_args = {\n",
    "            \"num_train_epochs\": num_train_epochs,\n",
    "        }\n",
    "\n",
    "    training_args = TrainingArguments(\n",
    "        output_dir=output_dir,\n",
    "        per_device_train_batch_size=batch_size,\n",
    "        per_device_eval_batch_size=batch_size,\n",
    "        save_total_limit=save_total_limit,\n",
    "        learning_rate=learning_rate,\n",
    "        save_steps=save_steps,\n",
    "        eval_steps=eval_steps,\n",
    "        evaluation_strategy=\"no\"\n",
    "\n",
    "        if eval_steps < 0\n",
    "        else {0: \"epoch\"}.get(eval_steps, \"steps\"),\n",
    "        warmup_steps=warmup_steps,\n",
    "        logging_steps=logging_steps,\n",
    "        logging_strategy=\"no\"\n",
    "\n",
    "        if logging_steps < 0\n",
    "        else {0: \"epoch\"}.get(logging_steps, \"steps\"),\n",
    "        overwrite_output_dir=True,\n",
    "        **how_long_to_train_args,\n",
    "    )\n",
    "\n",
    "    pprint(\"Training args:\")\n",
    "    pprint(training_args)\n",
    "\n",
    "    data_collator = DataCollatorWithPadding(tokenizer=tokenizer)\n",
    "    _langs_set = set(finetune_langs) | set(test_langs)\n",
    "\n",
    "    def compute_metrics(eval_pred):\n",
    "        predictions, labels = eval_pred\n",
    "        predictions = np.argmax(predictions, axis=1)\n",
    "\n",
    "        metrics = {\n",
    "            \"macro_f1\": f1.compute(\n",
    "                predictions=predictions, references=labels, average=\"macro\"\n",
    "            )[\"f1\"],\n",
    "            \"micro_f1\": f1.compute(\n",
    "                predictions=predictions, references=labels, average=\"micro\"\n",
    "            )[\"f1\"],\n",
    "        }\n",
    "\n",
    "        # Per-class F1s\n",
    "        class_f1s = f1.compute(\n",
    "            predictions=predictions, references=labels, average=None\n",
    "        )[\"f1\"]\n",
    "        class_ids = sorted(set(predictions) | set(labels))\n",
    "        f1s_per_class = {\n",
    "            id_to_language[class_id]: f1_score\n",
    "\n",
    "            for class_id, f1_score in zip(class_ids, class_f1s)\n",
    "        }\n",
    "\n",
    "        # Score each test lang\n",
    "\n",
    "        for lang in test_langs:\n",
    "            metrics[f\"f1_{lang}\"] = f1s_per_class.get(lang, 0)\n",
    "\n",
    "        # Confusion matrix\n",
    "        labels_human_readable = [id_to_language[i] for i in labels]\n",
    "        predictions_human_readable = [id_to_language[i] for i in predictions]\n",
    "\n",
    "        for hum_readable in labels_human_readable, predictions_human_readable:\n",
    "            _langs_set.update(hum_readable)\n",
    "\n",
    "        _langs = sorted(_langs_set)\n",
    "\n",
    "        remove_zero_rows = lambda df: df.loc[~(df == 0).all(axis=1)]\n",
    "        remove_zero_cols = lambda df: df.loc[:, (df != 0).any(axis=0)]\n",
    "\n",
    "        cm = confusion_matrix(\n",
    "            y_true=labels_human_readable,\n",
    "            y_pred=predictions_human_readable,\n",
    "            labels=_langs,\n",
    "        )\n",
    "        confusion_df = pd.DataFrame(cm)\n",
    "        confusion_df.columns = _langs\n",
    "        confusion_df.index = _langs\n",
    "        confusion_df = remove_zero_rows(confusion_df)\n",
    "        confusion_df = remove_zero_cols(confusion_df)\n",
    "\n",
    "        print(\"\\n\\n\")\n",
    "        pprint(confusion_df)\n",
    "        print(\"\\n\\n\")\n",
    "\n",
    "        return metrics\n",
    "\n",
    "    # Grab _N random rows from finetuning and test datasets\n",
    "\n",
    "    if debug:\n",
    "        _N = 100\n",
    "        finetune_random_indices = np.random.choice(\n",
    "            len(data_for_finetune), _N, replace=False\n",
    "        )\n",
    "        test_random_indices = np.random.choice(len(data_for_test), _N, replace=False)\n",
    "        data_for_finetune = data_for_finetune.select(finetune_random_indices)\n",
    "        data_for_test = data_for_test.select(test_random_indices)\n",
    "\n",
    "    # Define the trainer\n",
    "    trainer = Trainer(\n",
    "        model=model,\n",
    "        args=training_args,\n",
    "        train_dataset=data_for_finetune,\n",
    "        eval_dataset=data_for_test,\n",
    "        data_collator=data_collator,\n",
    "        tokenizer=tokenizer,\n",
    "        compute_metrics=compute_metrics,\n",
    "    )\n",
    "\n",
    "    # Evaluate the model before finetuning\n",
    "    pprint(\"Pre-finetune eval\")\n",
    "    metrics_pre_finetune = trainer.evaluate()\n",
    "    pprint(metrics_pre_finetune)\n",
    "\n",
    "    # Finetune the model\n",
    "    trainer.train()\n",
    "\n",
    "    # Evaluate the model after finetuning\n",
    "    pprint(\"Post-finetune eval\")\n",
    "    metrics_post_finetune = trainer.evaluate()\n",
    "    pprint(metrics_post_finetune)\n",
    "\n",
    "    \n",
    "```   "
   ]
  },
  {
   "cell_type": "code",
   "execution_count": null,
   "id": "6364531e",
   "metadata": {},
   "outputs": [],
   "source": []
  }
 ],
 "metadata": {
  "kernelspec": {
   "display_name": "Python 3 (ipykernel)",
   "language": "python",
   "name": "python3"
  },
  "language_info": {
   "codemirror_mode": {
    "name": "ipython",
    "version": 3
   },
   "file_extension": ".py",
   "mimetype": "text/x-python",
   "name": "python",
   "nbconvert_exporter": "python",
   "pygments_lexer": "ipython3",
   "version": "3.9.16"
  }
 },
 "nbformat": 4,
 "nbformat_minor": 5
}
